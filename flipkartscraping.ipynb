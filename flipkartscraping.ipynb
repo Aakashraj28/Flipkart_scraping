{
 "cells": [
  {
   "cell_type": "code",
   "execution_count": 28,
   "metadata": {},
   "outputs": [
    {
     "name": "stdout",
     "output_type": "stream",
     "text": [
      "Requirement already satisfied: numpy in c:\\users\\aakas\\anaconda3\\lib\\site-packages (1.26.4)\n",
      "Note: you may need to restart the kernel to use updated packages.\n"
     ]
    }
   ],
   "source": [
    "pip install numpy"
   ]
  },
  {
   "cell_type": "code",
   "execution_count": 29,
   "metadata": {},
   "outputs": [
    {
     "name": "stdout",
     "output_type": "stream",
     "text": [
      "Requirement already satisfied: selenium in c:\\users\\aakas\\anaconda3\\lib\\site-packages (4.31.0)\n",
      "Requirement already satisfied: urllib3<3,>=1.26 in c:\\users\\aakas\\anaconda3\\lib\\site-packages (from urllib3[socks]<3,>=1.26->selenium) (2.2.3)\n",
      "Requirement already satisfied: trio~=0.17 in c:\\users\\aakas\\anaconda3\\lib\\site-packages (from selenium) (0.30.0)\n",
      "Requirement already satisfied: trio-websocket~=0.9 in c:\\users\\aakas\\anaconda3\\lib\\site-packages (from selenium) (0.12.2)\n",
      "Requirement already satisfied: certifi>=2021.10.8 in c:\\users\\aakas\\anaconda3\\lib\\site-packages (from selenium) (2025.1.31)\n",
      "Requirement already satisfied: typing_extensions~=4.9 in c:\\users\\aakas\\anaconda3\\lib\\site-packages (from selenium) (4.11.0)\n",
      "Requirement already satisfied: websocket-client~=1.8 in c:\\users\\aakas\\anaconda3\\lib\\site-packages (from selenium) (1.8.0)\n",
      "Requirement already satisfied: attrs>=23.2.0 in c:\\users\\aakas\\anaconda3\\lib\\site-packages (from trio~=0.17->selenium) (25.3.0)\n",
      "Requirement already satisfied: sortedcontainers in c:\\users\\aakas\\anaconda3\\lib\\site-packages (from trio~=0.17->selenium) (2.4.0)\n",
      "Requirement already satisfied: idna in c:\\users\\aakas\\anaconda3\\lib\\site-packages (from trio~=0.17->selenium) (3.7)\n",
      "Requirement already satisfied: outcome in c:\\users\\aakas\\anaconda3\\lib\\site-packages (from trio~=0.17->selenium) (1.3.0.post0)\n",
      "Requirement already satisfied: sniffio>=1.3.0 in c:\\users\\aakas\\anaconda3\\lib\\site-packages (from trio~=0.17->selenium) (1.3.0)\n",
      "Requirement already satisfied: cffi>=1.14 in c:\\users\\aakas\\anaconda3\\lib\\site-packages (from trio~=0.17->selenium) (1.17.1)\n",
      "Requirement already satisfied: wsproto>=0.14 in c:\\users\\aakas\\anaconda3\\lib\\site-packages (from trio-websocket~=0.9->selenium) (1.2.0)\n",
      "Requirement already satisfied: pysocks!=1.5.7,<2.0,>=1.5.6 in c:\\users\\aakas\\anaconda3\\lib\\site-packages (from urllib3[socks]<3,>=1.26->selenium) (1.7.1)\n",
      "Requirement already satisfied: pycparser in c:\\users\\aakas\\anaconda3\\lib\\site-packages (from cffi>=1.14->trio~=0.17->selenium) (2.21)\n",
      "Requirement already satisfied: h11<1,>=0.9.0 in c:\\users\\aakas\\anaconda3\\lib\\site-packages (from wsproto>=0.14->trio-websocket~=0.9->selenium) (0.14.0)\n",
      "Note: you may need to restart the kernel to use updated packages.\n"
     ]
    }
   ],
   "source": [
    "pip install selenium"
   ]
  },
  {
   "cell_type": "code",
   "execution_count": 30,
   "metadata": {},
   "outputs": [],
   "source": [
    "#Import Packages\n",
    "from selenium import webdriver\n",
    "import time\n",
    "import pandas as pd\n",
    "import os"
   ]
  },
  {
   "cell_type": "code",
   "execution_count": 34,
   "metadata": {},
   "outputs": [],
   "source": [
    "from selenium.webdriver.support.select import Select\n",
    "from selenium.webdriver.support.ui import WebDriverWait\n",
    "from selenium.webdriver.common.by import By\n",
    "from selenium.webdriver.support import expected_conditions as EC"
   ]
  },
  {
   "cell_type": "code",
   "execution_count": null,
   "metadata": {},
   "outputs": [],
   "source": [
    "from selenium import webdriver\n",
    "from selenium.webdriver.chrome.service import Service\n",
    "\n",
    "# Define the correct path to ChromeDriver\n",
    "chrome_driver_path = r'C:\\Users\\aakas\\Downloads\\chromedriver-win64\\chromedriver-win64\\chromedriver.exe'\n",
    "\n",
    "# Create a service object\n",
    "service = Service(chrome_driver_path)\n",
    "\n",
    "# Launch Chrome using the service\n",
    "driver = webdriver.Chrome(service=service)\n"
   ]
  },
  {
   "cell_type": "code",
   "execution_count": 36,
   "metadata": {},
   "outputs": [],
   "source": [
    "from selenium import webdriver\n",
    "from selenium.webdriver.chrome.service import Service\n",
    "\n",
    "# Set the correct path to your ChromeDriver\n",
    "chrome_driver_path = r'C:\\Users\\aakas\\Downloads\\chromedriver-win64\\chromedriver-win64\\chromedriver.exe'\n",
    "\n",
    "# Create a Service object\n",
    "service = Service(chrome_driver_path)\n",
    "\n",
    "# Launch Chrome using the Service object\n",
    "driver = webdriver.Chrome(service=service)\n",
    "\n",
    "# Open the LinkedIn Jobs URL\n",
    "url1 = \"https://www.flipkart.com/search?q=smartphone&otracker=search&otracker1=search&marketplace=FLIPKART&as-show=on&as=off\"\n",
    "driver.get(url1)\n",
    "driver.implicitly_wait(10)  # Wait for elements to load\n",
    "\n"
   ]
  },
  {
   "cell_type": "code",
   "execution_count": 37,
   "metadata": {},
   "outputs": [],
   "source": [
    "y = len(driver.find_elements(By.CLASS_NAME, 'KzDlHZ'))"
   ]
  },
  {
   "cell_type": "code",
   "execution_count": 38,
   "metadata": {},
   "outputs": [
    {
     "data": {
      "text/plain": [
       "24"
      ]
     },
     "execution_count": 38,
     "metadata": {},
     "output_type": "execute_result"
    }
   ],
   "source": [
    "y"
   ]
  },
  {
   "cell_type": "code",
   "execution_count": 42,
   "metadata": {},
   "outputs": [
    {
     "name": "stdout",
     "output_type": "stream",
     "text": [
      "                                          Smartphones\n",
      "0          SAMSUNG Galaxy F06 5G (Lit Violet, 128 GB)\n",
      "1          SAMSUNG Galaxy F16 5G (Glam Green, 128 GB)\n",
      "2                       POCO C71 (Desert Gold, 64 GB)\n",
      "3   POCO C71 - Locked with Airtel Prepaid (Cool Bl...\n",
      "4         SAMSUNG Galaxy F06 5G (Bahama Blue, 128 GB)\n",
      "5          SAMSUNG Galaxy F16 5G (Glam Green, 128 GB)\n",
      "6                      REDMI A3X (Ocean Green, 64 GB)\n",
      "7                 vivo T4x 5G (Pronto Purple, 128 GB)\n",
      "8             vivo T3 Lite 5G (Vibrant Green, 128 GB)\n",
      "9           SAMSUNG Galaxy F05 (Twilight Blue, 64 GB)\n",
      "10        SAMSUNG Galaxy F16 5G (Vibing Blue, 128 GB)\n",
      "11        SAMSUNG Galaxy F16 5G (Bling Black, 128 GB)\n",
      "12           Motorola g45 5G (Brilliant Blue, 128 GB)\n",
      "13                     MOTOROLA g05 (Plum Red, 64 GB)\n",
      "14                  vivo T4x 5G (Marine Blue, 128 GB)\n",
      "15           Motorola g45 5G (Brilliant Blue, 128 GB)\n",
      "16        SAMSUNG Galaxy F06 5G (Bahama Blue, 128 GB)\n",
      "17         SAMSUNG Galaxy F06 5G (Lit Violet, 128 GB)\n",
      "18                  realme C61 (Marble Black, 128 GB)\n",
      "19          Motorola g45 5G (Brilliant Green, 128 GB)\n",
      "20        SAMSUNG Galaxy F16 5G (Bling Black, 128 GB)\n",
      "21        SAMSUNG Galaxy F16 5G (Bling Black, 128 GB)\n",
      "22                 MOTOROLA g05 (Forest Green, 64 GB)\n",
      "23              OPPO Reno 12 5G (Matte Brown, 256 GB)\n"
     ]
    }
   ],
   "source": [
    "from selenium.webdriver.common.by import By\n",
    "\n",
    "# Ensure y is an integer\n",
    "y = int(y) if isinstance(y, (str, float)) else y  # Convert safely if needed\n",
    "\n",
    "model_name=[]\n",
    "\n",
    "# Find all company elements\n",
    "\n",
    "\n",
    "# Loop through available elements (ensure `y` is within range)\n",
    "for j in range(y):\n",
    "    model=driver.find_elements(By.CLASS_NAME, 'KzDlHZ')[j].text\n",
    "    model_name.append(model)\n",
    "modelfinal=pd.DataFrame(model_name,columns=['Smartphones'])\n",
    "print(modelfinal)"
   ]
  },
  {
   "cell_type": "code",
   "execution_count": 44,
   "metadata": {},
   "outputs": [
    {
     "name": "stdout",
     "output_type": "stream",
     "text": [
      "   ratings\n",
      "0      4.2\n",
      "1      4.2\n",
      "2      4.1\n",
      "3      4.1\n",
      "4      4.2\n",
      "5      4.2\n",
      "6      4.1\n",
      "7      4.5\n",
      "8      4.4\n",
      "9      4.2\n",
      "10     4.2\n",
      "11     4.2\n",
      "12     4.3\n",
      "13     4.3\n",
      "14     4.5\n",
      "15     4.3\n",
      "16     4.1\n",
      "17     4.1\n",
      "18     4.4\n",
      "19     4.3\n",
      "20     4.2\n",
      "21     4.2\n",
      "22     4.3\n",
      "23     4.4\n"
     ]
    }
   ],
   "source": [
    "from selenium.webdriver.common.by import By\n",
    "\n",
    "# Ensure y is an integer\n",
    "y = int(y) if isinstance(y, (str, float)) else y  # Convert safely if needed\n",
    "\n",
    "rating_list=[]\n",
    "\n",
    "# Find all company elements\n",
    "ratings = driver.find_elements(By.CLASS_NAME, 'XQDdHH')\n",
    "\n",
    "# Loop through available elements (ensure `y` is within range)\n",
    "for j in range(min(y, len(ratings))):  \n",
    "    rating_list.append(ratings[j].text)\n",
    "ratinglistfinal=pd.DataFrame(rating_list,columns=['ratings'])\n",
    "print(ratinglistfinal)"
   ]
  },
  {
   "cell_type": "code",
   "execution_count": 46,
   "metadata": {},
   "outputs": [
    {
     "name": "stdout",
     "output_type": "stream",
     "text": [
      "      Price\n",
      "0    ₹9,199\n",
      "1   ₹14,499\n",
      "2    ₹6,499\n",
      "3    ₹5,999\n",
      "4    ₹9,199\n",
      "5   ₹11,499\n",
      "6    ₹5,999\n",
      "7   ₹13,999\n",
      "8   ₹10,499\n",
      "9    ₹6,499\n",
      "10  ₹12,999\n",
      "11  ₹11,499\n",
      "12  ₹12,999\n",
      "13   ₹7,299\n",
      "14  ₹13,999\n",
      "15  ₹10,999\n",
      "16  ₹10,699\n",
      "17  ₹10,699\n",
      "18   ₹8,199\n",
      "19  ₹10,999\n",
      "20  ₹14,499\n",
      "21  ₹12,999\n",
      "22   ₹7,299\n",
      "23  ₹20,999\n"
     ]
    }
   ],
   "source": [
    "from selenium.webdriver.common.by import By\n",
    "\n",
    "# Ensure y is an integer\n",
    "y = int(y) if isinstance(y, (str, float)) else y  # Convert safely if needed\n",
    "\n",
    "price_list=[]\n",
    "\n",
    "# Find all company elements\n",
    "prices = driver.find_elements(By.CLASS_NAME, 'Nx9bqj')\n",
    "\n",
    "# Loop through available elements (ensure `y` is within range)\n",
    "for j in range(min(y, len(prices))):  \n",
    "    price_list.append(prices[j].text)\n",
    "pricelistfinal=pd.DataFrame(price_list,columns=['Price'])\n",
    "print(pricelistfinal)"
   ]
  },
  {
   "cell_type": "code",
   "execution_count": 48,
   "metadata": {},
   "outputs": [],
   "source": [
    "final=modelfinal.join(pricelistfinal)\n",
    "final=final.join(ratinglistfinal)"
   ]
  },
  {
   "cell_type": "code",
   "execution_count": 50,
   "metadata": {},
   "outputs": [
    {
     "data": {
      "text/html": [
       "<div>\n",
       "<style scoped>\n",
       "    .dataframe tbody tr th:only-of-type {\n",
       "        vertical-align: middle;\n",
       "    }\n",
       "\n",
       "    .dataframe tbody tr th {\n",
       "        vertical-align: top;\n",
       "    }\n",
       "\n",
       "    .dataframe thead th {\n",
       "        text-align: right;\n",
       "    }\n",
       "</style>\n",
       "<table border=\"1\" class=\"dataframe\">\n",
       "  <thead>\n",
       "    <tr style=\"text-align: right;\">\n",
       "      <th></th>\n",
       "      <th>Smartphones</th>\n",
       "      <th>Price</th>\n",
       "      <th>ratings</th>\n",
       "    </tr>\n",
       "  </thead>\n",
       "  <tbody>\n",
       "    <tr>\n",
       "      <th>0</th>\n",
       "      <td>SAMSUNG Galaxy F06 5G (Lit Violet, 128 GB)</td>\n",
       "      <td>₹9,199</td>\n",
       "      <td>4.2</td>\n",
       "    </tr>\n",
       "    <tr>\n",
       "      <th>1</th>\n",
       "      <td>SAMSUNG Galaxy F16 5G (Glam Green, 128 GB)</td>\n",
       "      <td>₹14,499</td>\n",
       "      <td>4.2</td>\n",
       "    </tr>\n",
       "    <tr>\n",
       "      <th>2</th>\n",
       "      <td>POCO C71 (Desert Gold, 64 GB)</td>\n",
       "      <td>₹6,499</td>\n",
       "      <td>4.1</td>\n",
       "    </tr>\n",
       "    <tr>\n",
       "      <th>3</th>\n",
       "      <td>POCO C71 - Locked with Airtel Prepaid (Cool Bl...</td>\n",
       "      <td>₹5,999</td>\n",
       "      <td>4.1</td>\n",
       "    </tr>\n",
       "    <tr>\n",
       "      <th>4</th>\n",
       "      <td>SAMSUNG Galaxy F06 5G (Bahama Blue, 128 GB)</td>\n",
       "      <td>₹9,199</td>\n",
       "      <td>4.2</td>\n",
       "    </tr>\n",
       "    <tr>\n",
       "      <th>5</th>\n",
       "      <td>SAMSUNG Galaxy F16 5G (Glam Green, 128 GB)</td>\n",
       "      <td>₹11,499</td>\n",
       "      <td>4.2</td>\n",
       "    </tr>\n",
       "    <tr>\n",
       "      <th>6</th>\n",
       "      <td>REDMI A3X (Ocean Green, 64 GB)</td>\n",
       "      <td>₹5,999</td>\n",
       "      <td>4.1</td>\n",
       "    </tr>\n",
       "    <tr>\n",
       "      <th>7</th>\n",
       "      <td>vivo T4x 5G (Pronto Purple, 128 GB)</td>\n",
       "      <td>₹13,999</td>\n",
       "      <td>4.5</td>\n",
       "    </tr>\n",
       "    <tr>\n",
       "      <th>8</th>\n",
       "      <td>vivo T3 Lite 5G (Vibrant Green, 128 GB)</td>\n",
       "      <td>₹10,499</td>\n",
       "      <td>4.4</td>\n",
       "    </tr>\n",
       "    <tr>\n",
       "      <th>9</th>\n",
       "      <td>SAMSUNG Galaxy F05 (Twilight Blue, 64 GB)</td>\n",
       "      <td>₹6,499</td>\n",
       "      <td>4.2</td>\n",
       "    </tr>\n",
       "    <tr>\n",
       "      <th>10</th>\n",
       "      <td>SAMSUNG Galaxy F16 5G (Vibing Blue, 128 GB)</td>\n",
       "      <td>₹12,999</td>\n",
       "      <td>4.2</td>\n",
       "    </tr>\n",
       "    <tr>\n",
       "      <th>11</th>\n",
       "      <td>SAMSUNG Galaxy F16 5G (Bling Black, 128 GB)</td>\n",
       "      <td>₹11,499</td>\n",
       "      <td>4.2</td>\n",
       "    </tr>\n",
       "    <tr>\n",
       "      <th>12</th>\n",
       "      <td>Motorola g45 5G (Brilliant Blue, 128 GB)</td>\n",
       "      <td>₹12,999</td>\n",
       "      <td>4.3</td>\n",
       "    </tr>\n",
       "    <tr>\n",
       "      <th>13</th>\n",
       "      <td>MOTOROLA g05 (Plum Red, 64 GB)</td>\n",
       "      <td>₹7,299</td>\n",
       "      <td>4.3</td>\n",
       "    </tr>\n",
       "    <tr>\n",
       "      <th>14</th>\n",
       "      <td>vivo T4x 5G (Marine Blue, 128 GB)</td>\n",
       "      <td>₹13,999</td>\n",
       "      <td>4.5</td>\n",
       "    </tr>\n",
       "    <tr>\n",
       "      <th>15</th>\n",
       "      <td>Motorola g45 5G (Brilliant Blue, 128 GB)</td>\n",
       "      <td>₹10,999</td>\n",
       "      <td>4.3</td>\n",
       "    </tr>\n",
       "    <tr>\n",
       "      <th>16</th>\n",
       "      <td>SAMSUNG Galaxy F06 5G (Bahama Blue, 128 GB)</td>\n",
       "      <td>₹10,699</td>\n",
       "      <td>4.1</td>\n",
       "    </tr>\n",
       "    <tr>\n",
       "      <th>17</th>\n",
       "      <td>SAMSUNG Galaxy F06 5G (Lit Violet, 128 GB)</td>\n",
       "      <td>₹10,699</td>\n",
       "      <td>4.1</td>\n",
       "    </tr>\n",
       "    <tr>\n",
       "      <th>18</th>\n",
       "      <td>realme C61 (Marble Black, 128 GB)</td>\n",
       "      <td>₹8,199</td>\n",
       "      <td>4.4</td>\n",
       "    </tr>\n",
       "    <tr>\n",
       "      <th>19</th>\n",
       "      <td>Motorola g45 5G (Brilliant Green, 128 GB)</td>\n",
       "      <td>₹10,999</td>\n",
       "      <td>4.3</td>\n",
       "    </tr>\n",
       "    <tr>\n",
       "      <th>20</th>\n",
       "      <td>SAMSUNG Galaxy F16 5G (Bling Black, 128 GB)</td>\n",
       "      <td>₹14,499</td>\n",
       "      <td>4.2</td>\n",
       "    </tr>\n",
       "    <tr>\n",
       "      <th>21</th>\n",
       "      <td>SAMSUNG Galaxy F16 5G (Bling Black, 128 GB)</td>\n",
       "      <td>₹12,999</td>\n",
       "      <td>4.2</td>\n",
       "    </tr>\n",
       "    <tr>\n",
       "      <th>22</th>\n",
       "      <td>MOTOROLA g05 (Forest Green, 64 GB)</td>\n",
       "      <td>₹7,299</td>\n",
       "      <td>4.3</td>\n",
       "    </tr>\n",
       "    <tr>\n",
       "      <th>23</th>\n",
       "      <td>OPPO Reno 12 5G (Matte Brown, 256 GB)</td>\n",
       "      <td>₹20,999</td>\n",
       "      <td>4.4</td>\n",
       "    </tr>\n",
       "  </tbody>\n",
       "</table>\n",
       "</div>"
      ],
      "text/plain": [
       "                                          Smartphones    Price ratings\n",
       "0          SAMSUNG Galaxy F06 5G (Lit Violet, 128 GB)   ₹9,199     4.2\n",
       "1          SAMSUNG Galaxy F16 5G (Glam Green, 128 GB)  ₹14,499     4.2\n",
       "2                       POCO C71 (Desert Gold, 64 GB)   ₹6,499     4.1\n",
       "3   POCO C71 - Locked with Airtel Prepaid (Cool Bl...   ₹5,999     4.1\n",
       "4         SAMSUNG Galaxy F06 5G (Bahama Blue, 128 GB)   ₹9,199     4.2\n",
       "5          SAMSUNG Galaxy F16 5G (Glam Green, 128 GB)  ₹11,499     4.2\n",
       "6                      REDMI A3X (Ocean Green, 64 GB)   ₹5,999     4.1\n",
       "7                 vivo T4x 5G (Pronto Purple, 128 GB)  ₹13,999     4.5\n",
       "8             vivo T3 Lite 5G (Vibrant Green, 128 GB)  ₹10,499     4.4\n",
       "9           SAMSUNG Galaxy F05 (Twilight Blue, 64 GB)   ₹6,499     4.2\n",
       "10        SAMSUNG Galaxy F16 5G (Vibing Blue, 128 GB)  ₹12,999     4.2\n",
       "11        SAMSUNG Galaxy F16 5G (Bling Black, 128 GB)  ₹11,499     4.2\n",
       "12           Motorola g45 5G (Brilliant Blue, 128 GB)  ₹12,999     4.3\n",
       "13                     MOTOROLA g05 (Plum Red, 64 GB)   ₹7,299     4.3\n",
       "14                  vivo T4x 5G (Marine Blue, 128 GB)  ₹13,999     4.5\n",
       "15           Motorola g45 5G (Brilliant Blue, 128 GB)  ₹10,999     4.3\n",
       "16        SAMSUNG Galaxy F06 5G (Bahama Blue, 128 GB)  ₹10,699     4.1\n",
       "17         SAMSUNG Galaxy F06 5G (Lit Violet, 128 GB)  ₹10,699     4.1\n",
       "18                  realme C61 (Marble Black, 128 GB)   ₹8,199     4.4\n",
       "19          Motorola g45 5G (Brilliant Green, 128 GB)  ₹10,999     4.3\n",
       "20        SAMSUNG Galaxy F16 5G (Bling Black, 128 GB)  ₹14,499     4.2\n",
       "21        SAMSUNG Galaxy F16 5G (Bling Black, 128 GB)  ₹12,999     4.2\n",
       "22                 MOTOROLA g05 (Forest Green, 64 GB)   ₹7,299     4.3\n",
       "23              OPPO Reno 12 5G (Matte Brown, 256 GB)  ₹20,999     4.4"
      ]
     },
     "execution_count": 50,
     "metadata": {},
     "output_type": "execute_result"
    }
   ],
   "source": [
    "final"
   ]
  },
  {
   "cell_type": "code",
   "execution_count": 52,
   "metadata": {},
   "outputs": [],
   "source": [
    "final.to_csv('flipkartscraping.csv')"
   ]
  },
  {
   "cell_type": "code",
   "execution_count": null,
   "metadata": {},
   "outputs": [],
   "source": []
  }
 ],
 "metadata": {
  "kernelspec": {
   "display_name": "Python [conda env:base] *",
   "language": "python",
   "name": "conda-base-py"
  },
  "language_info": {
   "codemirror_mode": {
    "name": "ipython",
    "version": 3
   },
   "file_extension": ".py",
   "mimetype": "text/x-python",
   "name": "python",
   "nbconvert_exporter": "python",
   "pygments_lexer": "ipython3",
   "version": "3.12.7"
  }
 },
 "nbformat": 4,
 "nbformat_minor": 4
}
